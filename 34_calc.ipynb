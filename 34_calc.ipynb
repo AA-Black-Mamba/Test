{
 "cells": [
  {
   "cell_type": "code",
   "execution_count": null,
   "metadata": {},
   "outputs": [],
   "source": [
    "\"\"\"ns Very complex test feature, that may not be changed by any means\"\"\"\n",
    "\n",
    "\n",
    "import numpy as np\n",
    "\n",
    "a = 3\n",
    "b = 4\n",
    "\n",
    "mult = 3*4\n",
    "add = 3+4\n",
    "div = 3/4\n",
    "dif = 3-4\n"
   ]
  }
 ],
 "metadata": {
  "kernelspec": {
   "display_name": "Python 3",
   "language": "python",
   "name": "python3"
  },
  "language_info": {
   "codemirror_mode": {
    "name": "ipython",
    "version": 3
   },
   "file_extension": ".py",
   "mimetype": "text/x-python",
   "name": "python",
   "nbconvert_exporter": "python",
   "pygments_lexer": "ipython3",
   "version": "3.7.4"
  }
 },
 "nbformat": 4,
 "nbformat_minor": 2
}
