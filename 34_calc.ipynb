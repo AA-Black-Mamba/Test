{
 "cells": [
  {
   "cell_type": "code",
   "execution_count": 3,
   "metadata": {},
   "outputs": [
    {
     "name": "stdout",
     "output_type": "stream",
     "text": [
      "4\n",
      "12\n"
     ]
    }
   ],
   "source": [
    "\"\"\"ns Very complex test feature, that may not be changed by any means\"\"\"\n",
    "\n",
    "\n",
    "import numpy as np\n",
    "import seaborn as sns\n",
    "\n",
    "a = 3 #sm HALLO GIBTS HIER TULIP\n",
    "b = 4\n",
    "\n",
    "mult = 3*4\n",
    "\n",
    "div = 3/4\n",
    "dif = 3-400\n",
    "\n",
    "#dies ist ein sinnvoller Kommentar Hahahahahah heheh\n",
    "subtrahiere = 9-5\n",
    "\n",
    "print(subtrahiere)\n",
    "print(mult)\n",
    "\n"
   ]
  },
  {
   "cell_type": "code",
   "execution_count": 4,
   "metadata": {},
   "outputs": [
    {
     "name": "stdout",
     "output_type": "stream",
     "text": [
      "6.6000000000000005\n"
     ]
    }
   ],
   "source": [
    "c = 2.2\n",
    "d = 3\n",
    "print (c*d)\n"
   ]
  },
  {
   "cell_type": "code",
   "execution_count": null,
   "metadata": {},
   "outputs": [],
   "source": []
  }
 ],
 "metadata": {
  "kernelspec": {
   "display_name": "Python 3",
   "language": "python",
   "name": "python3"
  },
  "language_info": {
   "codemirror_mode": {
    "name": "ipython",
    "version": 3
   },
   "file_extension": ".py",
   "mimetype": "text/x-python",
   "name": "python",
   "nbconvert_exporter": "python",
   "pygments_lexer": "ipython3",
   "version": "3.7.3"
  }
 },
 "nbformat": 4,
 "nbformat_minor": 2
}
