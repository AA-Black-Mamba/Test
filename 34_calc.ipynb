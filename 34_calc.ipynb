{
 "cells": [
  {
   "cell_type": "code",
   "execution_count": 1,
   "metadata": {},
   "outputs": [
    {
     "name": "stdout",
     "output_type": "stream",
     "text": [
      "4\n",
      "12\n"
     ]
    }
   ],
   "source": [
    "\"\"\"ns Very complex test feature, that may not be changed by any means\"\"\"\n",
    "\n",
    "\n",
    "import numpy as np\n",
    "\n",
    "a = 3\n",
    "b = 4\n",
    "\n",
    "mult = a*b\n",
    "\n",
    "div = a/b\n",
    "dif = a-400\n",
    "\n",
    "#dies ist ein sinnvoller Kommentar Hahahahahah heheh\n",
    "subtrahiere = 9-5\n",
    "\n",
    "print(subtrahiere)\n",
    "print(mult)\n",
    "\n",
    "#Sophia ist eine Tulpe.\n"
   ]
  },
  {
   "cell_type": "code",
   "execution_count": null,
   "metadata": {},
   "outputs": [],
   "source": []
  }
 ],
 "metadata": {
  "kernelspec": {
   "display_name": "Python 3",
   "language": "python",
   "name": "python3"
  },
  "language_info": {
   "codemirror_mode": {
    "name": "ipython",
    "version": 3
   },
   "file_extension": ".py",
   "mimetype": "text/x-python",
   "name": "python",
   "nbconvert_exporter": "python",
   "pygments_lexer": "ipython3",
   "version": "3.7.4"
  }
 },
 "nbformat": 4,
 "nbformat_minor": 2
}
